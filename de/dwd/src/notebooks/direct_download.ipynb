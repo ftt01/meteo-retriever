{
 "cells": [
  {
   "cell_type": "code",
   "execution_count": null,
   "metadata": {},
   "outputs": [],
   "source": [
    "import sys\n",
    "\n",
    "lib_dir = \"/home/daniele/documents/github/ftt01/phd/share/lib\"\n",
    "sys.path.insert( 0, lib_dir )"
   ]
  },
  {
   "cell_type": "code",
   "execution_count": null,
   "metadata": {},
   "outputs": [],
   "source": [
    "from lib import *"
   ]
  },
  {
   "cell_type": "code",
   "execution_count": null,
   "metadata": {},
   "outputs": [],
   "source": [
    "import argparse\n",
    "\n",
    "import requests\n",
    "import bz2"
   ]
  },
  {
   "cell_type": "markdown",
   "metadata": {},
   "source": [
    "## takes in input the JSON config file"
   ]
  },
  {
   "cell_type": "code",
   "execution_count": null,
   "metadata": {},
   "outputs": [],
   "source": [
    "try:\n",
    "    input_parser = argparse.ArgumentParser()\n",
    "    input_parser.add_argument('configuration_file', type=str)\n",
    "    args = input_parser.parse_args()\n",
    "    jsonConfig = args.configuration_file\n",
    "except:\n",
    "    configuration_file = \"../../etc/conf/download/dwd_de_icon-d2-eps_config.json\""
   ]
  },
  {
   "cell_type": "code",
   "execution_count": null,
   "metadata": {},
   "outputs": [],
   "source": [
    "with open(jsonConfig) as config_file:\n",
    "    configuration = json.load(config_file)\n",
    "\n",
    "    reference_name = configuration[\"reference_name\"]\n",
    "    basepath_provider = configuration[\"basepath_provider\"]\n",
    "    basename_gribfile = configuration[\"basename_gribfile\"]\n",
    "\n",
    "    ensembles_cardinality = configuration[\"ensembles_cardinality\"]\n",
    "    forecast_hours = int(configuration[\"forecast_hours\"])\n",
    "    forecast_hours_step = int(configuration[\"forecast_hours_step\"])\n",
    "\n",
    "    release_delay = int(configuration[\"release_delay\"])\n",
    "    release_time = [int(el) for el in configuration[\"release_time\"].strip(\"[]\").split(',')]\n",
    "\n",
    "    out_path = configuration[\"out_path\"]\n",
    "    log_path = configuration[\"log_path\"]\n",
    "\n",
    "    variables = configuration[\"variables\"]\n",
    "  \n",
    "    hour_now = int(dt.datetime.utcnow().hour)\n",
    "    print(\"Current time: \" + str(hour_now) )\n",
    "\n",
    "    date_to_download = None\n",
    "    init_hour = None\n",
    "\n",
    "    if hour_now <= release_time[0] + release_delay:\n",
    "        date_now = (dt.datetime.utcnow() - timedelta(days=1)).strftime('%Y%m%d')\n",
    "        currentReleaseHour = release_time[len(release_time) - 1]\n",
    "        if currentReleaseHour == 1:\n",
    "            init_hour = \"0\" + str(currentReleaseHour)\n",
    "        else:\n",
    "            init_hour = str(currentReleaseHour)\n",
    "    else:\n",
    "        date_now = dt.datetime.utcnow().strftime('%Y%m%d')\n",
    "        for t in release_time:\n",
    "            if hour_now >= t + release_delay:\n",
    "                if len(str(t)) == 1:\n",
    "                    init_hour = \"0\" + str(t)\n",
    "                else:\n",
    "                    init_hour = str(t)\n",
    "        date_to_download = date_now + init_hour\n",
    "\n",
    "    print( \"Release delay: \" + str(release_delay) )\n",
    "    print( \"Current date: \" + str(date_now) )\n",
    "    print( \"To download date: \" + str(date_to_download) )\n",
    "\n",
    "    log_file = log_path + date_to_download + \"_\" + reference_name + \".txt\"\n",
    "    print( \"Log file location: \" + str(log_file) )\n",
    "\n",
    "    for v in list(variables):\n",
    "\n",
    "        for e in range(0,forecast_hours + 1,forecast_hours_step):\n",
    "\n",
    "            url = '''{basepath_provider}{init_hour}/{var}/{basename_gribfile}_{date_with_hour}_{three_digit_forecast_hours}_2d_{var}.grib2.bz2'''\n",
    "            grib_filepath = '''{out_path}{date}/{var}/'''\n",
    "            grib_filename = '''{grib_filepath}{date_with_hour}.grib2'''\n",
    "\n",
    "            three_digit_forecast_hours = \"\"\n",
    "            zeros = 3 - len(str(e))\n",
    "            for i in range(zeros):\n",
    "                three_digit_forecast_hours += \"0\"\n",
    "            three_digit_forecast_hours += str(e)\n",
    "\n",
    "            URL = url.format(basepath_provider=basepath_provider,\n",
    "                                init_hour=init_hour,\n",
    "                                var=v,\n",
    "                                basename_gribfile=basename_gribfile,\n",
    "                                date_with_hour=date_to_download,\n",
    "                                three_digit_forecast_hours=three_digit_forecast_hours)\n",
    "\n",
    "            # print( \"Current URL: \" + URL)\n",
    "\n",
    "            r = requests.get(URL, allow_redirects=True)\n",
    "            grbfile = bz2.decompress(r.content)\n",
    "            grib_filepath = grib_filepath.format(out_path=out_path,\n",
    "                                                    date=date_to_download,\n",
    "                                                    var=v)\n",
    "            \n",
    "            os.makedirs(grib_filepath, exist_ok=True)\n",
    "\n",
    "            grib_name = grib_filename.format(grib_filepath=grib_filepath,\n",
    "                                                date_with_hour=(dt.datetime.strptime(date_now + init_hour, '%Y%m%d%H') + dt.timedelta(seconds=3600 * int(e))).strftime('%Y%m%d%H'))\n",
    "\n",
    "            print( \"Current file saving: \" + grib_name )\n",
    "            open(grib_name, 'wb').write(grbfile)           "
   ]
  }
 ],
 "metadata": {
  "kernelspec": {
   "display_name": "Python 3.10.4 64-bit",
   "language": "python",
   "name": "python3"
  },
  "language_info": {
   "codemirror_mode": {
    "name": "ipython",
    "version": 3
   },
   "file_extension": ".py",
   "mimetype": "text/x-python",
   "name": "python",
   "nbconvert_exporter": "python",
   "pygments_lexer": "ipython3",
   "version": "3.10.4"
  },
  "orig_nbformat": 4,
  "vscode": {
   "interpreter": {
    "hash": "31f2aee4e71d21fbe5cf8b01ff0e069b9275f58929596ceb00d14d90e3e16cd6"
   }
  }
 },
 "nbformat": 4,
 "nbformat_minor": 2
}
