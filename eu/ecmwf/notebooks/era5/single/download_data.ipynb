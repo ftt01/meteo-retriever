{
 "cells": [
  {
   "cell_type": "code",
   "execution_count": null,
   "metadata": {},
   "outputs": [],
   "source": [
    "import sys\n",
    "\n",
    "lib_dir = \"/home/daniele/documents/github/ftt01/phd/share/lib\"\n",
    "sys.path.insert( 0, lib_dir )"
   ]
  },
  {
   "cell_type": "code",
   "execution_count": null,
   "metadata": {},
   "outputs": [],
   "source": [
    "from lib import *"
   ]
  },
  {
   "cell_type": "code",
   "execution_count": null,
   "metadata": {},
   "outputs": [],
   "source": [
    "import cdsapi"
   ]
  },
  {
   "cell_type": "code",
   "execution_count": null,
   "metadata": {},
   "outputs": [],
   "source": [
    "############## example - 20230602\n",
    "\n",
    "# import cdsapi\n",
    "\n",
    "# c = cdsapi.Client()\n",
    "\n",
    "# c.retrieve(\n",
    "#     'reanalysis-era5-single-levels',\n",
    "#     {\n",
    "#         'product_type': 'reanalysis',\n",
    "#         'variable': [\n",
    "#             '2m_temperature', 'total_precipitation',\n",
    "#         ],\n",
    "#         'year': '2010',\n",
    "#         'month': '01',\n",
    "#         'day': '01',\n",
    "#         'time': [\n",
    "#             '00:00', '01:00', '02:00',\n",
    "#             '03:00', '04:00', '05:00',\n",
    "#             '06:00', '07:00', '08:00',\n",
    "#             '09:00', '10:00', '11:00',\n",
    "#             '12:00', '13:00', '14:00',\n",
    "#             '15:00', '16:00', '17:00',\n",
    "#             '18:00', '19:00', '20:00',\n",
    "#             '21:00', '22:00', '23:00',\n",
    "#         ],\n",
    "#         'area': [\n",
    "#             47, 5, 43,\n",
    "#             17,\n",
    "#         ],\n",
    "#         'format': 'grib',\n",
    "#     },\n",
    "#     'download.grib')"
   ]
  },
  {
   "cell_type": "code",
   "execution_count": null,
   "metadata": {},
   "outputs": [],
   "source": [
    "output_path = \"/media/lacie2022/data/meteo/ecmwf/era5/original/single/\"\n",
    "mkNestedDir( output_path )\n",
    "\n",
    "lat_min = 43\n",
    "lat_max = 49\n",
    "lon_min = 5\n",
    "lon_max = 17\n",
    "\n",
    "years = [\n",
    "    2010,\n",
    "    2011,\n",
    "    2012,\n",
    "    2013,\n",
    "    2014,\n",
    "    2015,\n",
    "    2016,\n",
    "    2017,\n",
    "    2018,\n",
    "    2019,\n",
    "    2020,\n",
    "    2021,\n",
    "    2022\n",
    "]\n",
    "\n",
    "variables = ['2m_temperature', 'total_precipitation']\n",
    "\n",
    "runs = [\n",
    "    \"00:00\",\n",
    "    \"01:00\",\n",
    "    \"02:00\",\n",
    "    \"03:00\",\n",
    "    \"04:00\",\n",
    "    \"05:00\",\n",
    "    \"06:00\",\n",
    "    \"07:00\",\n",
    "    \"08:00\",\n",
    "    \"09:00\",\n",
    "    \"10:00\",\n",
    "    \"11:00\",\n",
    "    \"12:00\",\n",
    "    \"13:00\",\n",
    "    \"14:00\",\n",
    "    \"15:00\",\n",
    "    \"16:00\",\n",
    "    \"17:00\",\n",
    "    \"18:00\",\n",
    "    \"19:00\",\n",
    "    \"20:00\",\n",
    "    \"21:00\",\n",
    "    \"22:00\",\n",
    "    \"23:00\",\n",
    "]"
   ]
  },
  {
   "cell_type": "code",
   "execution_count": null,
   "metadata": {},
   "outputs": [],
   "source": [
    "os.chdir( output_path )"
   ]
  },
  {
   "cell_type": "code",
   "execution_count": null,
   "metadata": {},
   "outputs": [],
   "source": [
    "json_conf = {\n",
    "    'product_type': 'reanalysis',\n",
    "    'format': 'grib'\n",
    "}\n",
    "\n",
    "json_conf['area'] = [ lat_max, lon_min, lat_min, lon_max]"
   ]
  },
  {
   "cell_type": "code",
   "execution_count": null,
   "metadata": {},
   "outputs": [],
   "source": [
    "def run_download(c_json, var, run, day, month, year):\n",
    "\n",
    "    c_json['variable'] = var\n",
    "    c_json['time'] = run\n",
    "    c_json['day'] = day\n",
    "    c_json['month'] = month\n",
    "    c_json['year'] = year\n",
    "\n",
    "    print(c_json)\n",
    "\n",
    "    c = cdsapi.Client()\n",
    "\n",
    "    c.retrieve(\n",
    "        'reanalysis-era5-single-levels',\n",
    "        c_json,\n",
    "        '''{var}_{run}_{year}{month}{day}.grib'''.format(\n",
    "            var=var,\n",
    "            run=run[0:2],\n",
    "            year=year,\n",
    "            month=month.zfill(2),\n",
    "            day=day.zfill(2)\n",
    "        ))"
   ]
  },
  {
   "cell_type": "code",
   "execution_count": null,
   "metadata": {},
   "outputs": [],
   "source": [
    "def execute(date):\n",
    "    for run in runs:\n",
    "        for var in variables:\n",
    "            run_download(json_conf.copy(), var, run, str(date.day), str(date.month), str(date.year) )"
   ]
  },
  {
   "cell_type": "code",
   "execution_count": null,
   "metadata": {},
   "outputs": [],
   "source": [
    "import multiprocessing\n",
    "\n",
    "n_cpus = multiprocessing.cpu_count()\n",
    "\n",
    "for year in years:\n",
    "    start_date = dt.datetime.strptime( str(year)+'-01-01', '%Y-%m-%d' )\n",
    "    end_date = dt.datetime.strptime( str(year)+'-12-31', '%Y-%m-%d' )\n",
    "    dates = pd.date_range(start_date, end_date, freq='d')\n",
    "    \n",
    "    with multiprocessing.Pool(processes=int(n_cpus*0.8)) as pool:\n",
    "        pool.map(execute, dates)\n",
    "        \n",
    "    # close the process pool\n",
    "    pool.close()"
   ]
  }
 ],
 "metadata": {
  "interpreter": {
   "hash": "916dbcbb3f70747c44a77c7bcd40155683ae19c65e1c03b4aa3499c5328201f1"
  },
  "kernelspec": {
   "display_name": "Python 3.8.10 64-bit",
   "language": "python",
   "name": "python3"
  },
  "language_info": {
   "codemirror_mode": {
    "name": "ipython",
    "version": 3
   },
   "file_extension": ".py",
   "mimetype": "text/x-python",
   "name": "python",
   "nbconvert_exporter": "python",
   "pygments_lexer": "ipython3",
   "version": "3.10.6"
  },
  "orig_nbformat": 4
 },
 "nbformat": 4,
 "nbformat_minor": 2
}
