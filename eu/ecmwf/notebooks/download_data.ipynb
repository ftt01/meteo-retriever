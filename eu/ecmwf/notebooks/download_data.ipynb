{
 "cells": [
  {
   "cell_type": "code",
   "execution_count": null,
   "metadata": {},
   "outputs": [],
   "source": [
    "import sys\n",
    "\n",
    "lib_dir = \"/home/daniele/documents/github/ftt01/phd/share/lib\"\n",
    "sys.path.insert( 0, lib_dir )"
   ]
  },
  {
   "cell_type": "code",
   "execution_count": null,
   "metadata": {},
   "outputs": [],
   "source": [
    "from lib import *"
   ]
  },
  {
   "cell_type": "code",
   "execution_count": null,
   "metadata": {},
   "outputs": [],
   "source": [
    "import cdsapi\n",
    "# import ddsapi"
   ]
  },
  {
   "cell_type": "code",
   "execution_count": null,
   "metadata": {},
   "outputs": [],
   "source": [
    "output_path = \"/media/lacie2022/data/meteo/ecmwf/era5/original/ensemble/\"\n",
    "mkNestedDir( output_path )\n",
    "\n",
    "lat_min = 43\n",
    "lat_max = 49\n",
    "lon_min = 5\n",
    "lon_max = 17\n",
    "\n",
    "years = [\n",
    "    # 2010,\n",
    "    # 2011,\n",
    "    # 2012,\n",
    "    # 2013,\n",
    "    # 2014,\n",
    "    # 2015,\n",
    "    # 2016,\n",
    "    # 2017,\n",
    "    # 2018,\n",
    "    # 2019,\n",
    "    # 2020,\n",
    "    2021,\n",
    "    2022\n",
    "]\n",
    "\n",
    "variables = ['total_precipitation']\n",
    "\n",
    "runs = [\n",
    "    \"00:00\",\n",
    "    \"03:00\",\n",
    "    \"06:00\",\n",
    "    \"09:00\",\n",
    "    \"12:00\",\n",
    "    \"15:00\",\n",
    "    \"18:00\",\n",
    "    \"21:00\"\n",
    "]"
   ]
  },
  {
   "cell_type": "code",
   "execution_count": null,
   "metadata": {},
   "outputs": [],
   "source": [
    "os.chdir( output_path )"
   ]
  },
  {
   "cell_type": "code",
   "execution_count": null,
   "metadata": {},
   "outputs": [],
   "source": [
    "json_conf = {\n",
    "    'product_type': 'ensemble_members',\n",
    "    'format': 'grib'\n",
    "}\n",
    "\n",
    "json_conf['area'] = [ lat_max, lon_min, lat_min, lon_max]"
   ]
  },
  {
   "cell_type": "code",
   "execution_count": null,
   "metadata": {},
   "outputs": [],
   "source": [
    "def run_download(c_json, var, run, day, month, year):\n",
    "\n",
    "    c_json['variable'] = var\n",
    "    c_json['time'] = run\n",
    "    c_json['day'] = day\n",
    "    c_json['month'] = month\n",
    "    c_json['year'] = year\n",
    "\n",
    "    print(c_json)\n",
    "\n",
    "    c = cdsapi.Client()\n",
    "\n",
    "    c.retrieve(\n",
    "        'reanalysis-era5-single-levels',\n",
    "        c_json,\n",
    "        '''{var}_{run}_{year}{month}{day}.grib'''.format(\n",
    "            var=var,\n",
    "            run=run[0:2],\n",
    "            year=year,\n",
    "            month=month.zfill(2),\n",
    "            day=day.zfill(2)\n",
    "        ))"
   ]
  },
  {
   "cell_type": "code",
   "execution_count": null,
   "metadata": {},
   "outputs": [],
   "source": [
    "def execute(date):\n",
    "    for run in runs:\n",
    "        for var in variables:\n",
    "            run_download(json_conf.copy(), var, run, str(date.day), str(date.month), str(date.year) )"
   ]
  },
  {
   "cell_type": "code",
   "execution_count": null,
   "metadata": {},
   "outputs": [],
   "source": [
    "import multiprocessing\n",
    "\n",
    "for year in years:\n",
    "    start_date = dt.datetime.strptime( str(year)+'-01-01', '%Y-%m-%d' )\n",
    "    end_date = dt.datetime.strptime( str(year)+'-12-31', '%Y-%m-%d' )\n",
    "    dates = pd.date_range(start_date, end_date, freq='d')\n",
    "    \n",
    "    with multiprocessing.Pool() as pool:\n",
    "        pool.map(execute, dates)\n",
    "        \n",
    "    # close the process pool\n",
    "    pool.close()"
   ]
  }
 ],
 "metadata": {
  "interpreter": {
   "hash": "916dbcbb3f70747c44a77c7bcd40155683ae19c65e1c03b4aa3499c5328201f1"
  },
  "kernelspec": {
   "display_name": "Python 3.8.10 64-bit",
   "language": "python",
   "name": "python3"
  },
  "language_info": {
   "codemirror_mode": {
    "name": "ipython",
    "version": 3
   },
   "file_extension": ".py",
   "mimetype": "text/x-python",
   "name": "python",
   "nbconvert_exporter": "python",
   "pygments_lexer": "ipython3",
   "version": "3.10.6"
  },
  "orig_nbformat": 4
 },
 "nbformat": 4,
 "nbformat_minor": 2
}
