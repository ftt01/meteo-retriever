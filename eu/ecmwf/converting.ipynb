{
 "cells": [
  {
   "cell_type": "code",
   "execution_count": 1,
   "metadata": {},
   "outputs": [
    {
     "name": "stdout",
     "output_type": "stream",
     "text": [
      "[NbConvertApp] Converting notebook ./notebooks/era5/ens/grib2db.ipynb to script\n",
      "[NbConvertApp] Writing 6307 bytes to bin/era5/ens/grib2db.py\n"
     ]
    }
   ],
   "source": [
    "!jupyter nbconvert --output-dir='./bin/era5/ens/' --to script ./notebooks/era5/ens/grib2db.ipynb"
   ]
  },
  {
   "cell_type": "code",
   "execution_count": 3,
   "metadata": {},
   "outputs": [
    {
     "name": "stdout",
     "output_type": "stream",
     "text": [
      "[NbConvertApp] Converting notebook ./notebooks/era5/single/download_data.ipynb to script\n",
      "[NbConvertApp] Writing 3089 bytes to bin/era5/single/download_data.py\n"
     ]
    }
   ],
   "source": [
    "!jupyter nbconvert --output-dir='./bin/era5/single/' --to script ./notebooks/era5/single/download_data.ipynb"
   ]
  },
  {
   "cell_type": "code",
   "execution_count": null,
   "metadata": {},
   "outputs": [],
   "source": [
    "# !jupyter nbconvert --output-dir='./bin/era5/single/' --to script ./notebooks/era5/single/grib2db.ipynb"
   ]
  },
  {
   "cell_type": "code",
   "execution_count": null,
   "metadata": {},
   "outputs": [],
   "source": [
    "!jupyter nbconvert --output-dir='./bin/era5/land/' --to script ./notebooks/era5/land/grib2db.ipynb"
   ]
  },
  {
   "cell_type": "code",
   "execution_count": 8,
   "metadata": {},
   "outputs": [
    {
     "name": "stdout",
     "output_type": "stream",
     "text": [
      "[NbConvertApp] Converting notebook ./notebooks/era5/land/download_data.ipynb to script\n",
      "[NbConvertApp] Writing 4207 bytes to bin/era5/land/download_data.py\n"
     ]
    }
   ],
   "source": [
    "!jupyter nbconvert --output-dir='./bin/era5/land/' --to script ./notebooks/era5/land/download_data.ipynb"
   ]
  },
  {
   "cell_type": "code",
   "execution_count": null,
   "metadata": {},
   "outputs": [],
   "source": [
    "!jupyter nbconvert --output-dir='./bin/' --to script ./notebooks/era5land_data_extraction_from_DB.ipynb"
   ]
  },
  {
   "cell_type": "code",
   "execution_count": null,
   "metadata": {},
   "outputs": [],
   "source": [
    "!jupyter nbconvert --output-dir='./bin/' --to script ./notebooks/era5_data_extraction_from_DB.ipynb"
   ]
  }
 ],
 "metadata": {
  "kernelspec": {
   "display_name": "Python 3.10.6 64-bit",
   "language": "python",
   "name": "python3"
  },
  "language_info": {
   "codemirror_mode": {
    "name": "ipython",
    "version": 3
   },
   "file_extension": ".py",
   "mimetype": "text/x-python",
   "name": "python",
   "nbconvert_exporter": "python",
   "pygments_lexer": "ipython3",
   "version": "3.10.6"
  },
  "orig_nbformat": 4,
  "vscode": {
   "interpreter": {
    "hash": "916dbcbb3f70747c44a77c7bcd40155683ae19c65e1c03b4aa3499c5328201f1"
   }
  }
 },
 "nbformat": 4,
 "nbformat_minor": 2
}
